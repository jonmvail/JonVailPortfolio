{
 "cells": [
  {
   "cell_type": "markdown",
   "metadata": {},
   "source": [
    "# Workbook 3 Lasso\n",
    "After selecting my own feature, I then used Lasso to see what features it selected and compared the scores and the coefficients"
   ]
  },
  {
   "cell_type": "code",
   "execution_count": 84,
   "metadata": {},
   "outputs": [],
   "source": [
    "import numpy as np\n",
    "import pandas as pd\n",
    "import patsy\n",
    "from sklearn.model_selection import train_test_split\n",
    "from sklearn.linear_model import Ridge, Lasso, ElasticNet, LinearRegression, RidgeCV, LassoCV, ElasticNetCV\n",
    "from sklearn.model_selection import cross_val_score\n",
    "from sklearn import linear_model\n",
    "from sklearn.preprocessing import PolynomialFeatures, StandardScaler\n",
    "from sklearn.feature_selection import SelectKBest\n",
    "\n",
    "import matplotlib\n",
    "import matplotlib.pyplot as plt\n",
    "import seaborn as sns\n",
    "plt.style.use('fivethirtyeight')\n",
    "\n",
    "%config InlineBackend.figure_format = 'retina'\n",
    "%matplotlib inline"
   ]
  },
  {
   "cell_type": "code",
   "execution_count": 85,
   "metadata": {},
   "outputs": [],
   "source": [
    "train = pd.read_csv('./train.csv')"
   ]
  },
  {
   "cell_type": "code",
   "execution_count": 86,
   "metadata": {},
   "outputs": [],
   "source": [
    "test = pd.read_csv('./test.csv')"
   ]
  },
  {
   "cell_type": "code",
   "execution_count": 87,
   "metadata": {},
   "outputs": [],
   "source": [
    "y = train['SalePrice']\n",
    "X = train.drop(['SalePrice'], axis = \"columns\")"
   ]
  },
  {
   "cell_type": "code",
   "execution_count": 88,
   "metadata": {},
   "outputs": [],
   "source": [
    "test_id = test['Id']"
   ]
  },
  {
   "cell_type": "code",
   "execution_count": 89,
   "metadata": {},
   "outputs": [],
   "source": [
    "X_train, X_test, y_train, y_test = train_test_split(X, y, test_size=0.5)"
   ]
  },
  {
   "cell_type": "code",
   "execution_count": 90,
   "metadata": {},
   "outputs": [],
   "source": [
    "def clean_me(df):\n",
    "    #Replaces Null values outside of object columns \n",
    "    for i in range(len(df.columns)): \n",
    "        if [df.iloc[: ,i].dtypes!=object] == True:\n",
    "            mean = df.iloc[: ,i].mean()\n",
    "            df.iloc[: ,i].fillna(mean, inplace=True)\n",
    "        else:\n",
    "            pass\n",
    "        #Replaces other null values with AANone\n",
    "    str_cols = df.columns[df.dtypes==object]\n",
    "    df[str_cols] = df[str_cols].fillna('AANone')\n",
    "    df.fillna(0,inplace=True)\n",
    "        #Change selected columns from Int to float\n",
    "    for col in ['Low Qual Fin SF', 'Gr Liv Area', 'Lot Area', '1st Flr SF', '2nd Flr SF',\n",
    "                'Wood Deck SF', 'Open Porch SF', 'Enclosed Porch', '3Ssn Porch', 'Screen Porch', 'Pool Area', 'Misc Val']:\n",
    "                df[col] = df[col].astype('float64')\n",
    "        #Makes remaining int colomns objects \n",
    "    int_cols = df.columns[df.dtypes=='int64']\n",
    "    df[int_cols] = df[int_cols].astype('object')\n",
    "    df = df.drop(['Id', 'PID'], axis=1)\n",
    "    return df"
   ]
  },
  {
   "cell_type": "code",
   "execution_count": 91,
   "metadata": {
    "collapsed": true
   },
   "outputs": [
    {
     "name": "stderr",
     "output_type": "stream",
     "text": [
      "C:\\Users\\jmvail\\Anaconda3\\envs\\dsi\\lib\\site-packages\\pandas\\core\\frame.py:2540: SettingWithCopyWarning: \n",
      "A value is trying to be set on a copy of a slice from a DataFrame.\n",
      "Try using .loc[row_indexer,col_indexer] = value instead\n",
      "\n",
      "See the caveats in the documentation: http://pandas.pydata.org/pandas-docs/stable/indexing.html#indexing-view-versus-copy\n",
      "  self[k1] = value[k2]\n",
      "C:\\Users\\jmvail\\Anaconda3\\envs\\dsi\\lib\\site-packages\\pandas\\core\\frame.py:3035: SettingWithCopyWarning: \n",
      "A value is trying to be set on a copy of a slice from a DataFrame\n",
      "\n",
      "See the caveats in the documentation: http://pandas.pydata.org/pandas-docs/stable/indexing.html#indexing-view-versus-copy\n",
      "  downcast=downcast, **kwargs)\n",
      "C:\\Users\\jmvail\\Anaconda3\\envs\\dsi\\lib\\site-packages\\ipykernel\\__main__.py:16: SettingWithCopyWarning: \n",
      "A value is trying to be set on a copy of a slice from a DataFrame.\n",
      "Try using .loc[row_indexer,col_indexer] = value instead\n",
      "\n",
      "See the caveats in the documentation: http://pandas.pydata.org/pandas-docs/stable/indexing.html#indexing-view-versus-copy\n"
     ]
    }
   ],
   "source": [
    "X_train = clean_me(X_train)"
   ]
  },
  {
   "cell_type": "code",
   "execution_count": 92,
   "metadata": {
    "collapsed": true
   },
   "outputs": [
    {
     "name": "stderr",
     "output_type": "stream",
     "text": [
      "C:\\Users\\jmvail\\Anaconda3\\envs\\dsi\\lib\\site-packages\\pandas\\core\\frame.py:2540: SettingWithCopyWarning: \n",
      "A value is trying to be set on a copy of a slice from a DataFrame.\n",
      "Try using .loc[row_indexer,col_indexer] = value instead\n",
      "\n",
      "See the caveats in the documentation: http://pandas.pydata.org/pandas-docs/stable/indexing.html#indexing-view-versus-copy\n",
      "  self[k1] = value[k2]\n",
      "C:\\Users\\jmvail\\Anaconda3\\envs\\dsi\\lib\\site-packages\\pandas\\core\\frame.py:3035: SettingWithCopyWarning: \n",
      "A value is trying to be set on a copy of a slice from a DataFrame\n",
      "\n",
      "See the caveats in the documentation: http://pandas.pydata.org/pandas-docs/stable/indexing.html#indexing-view-versus-copy\n",
      "  downcast=downcast, **kwargs)\n",
      "C:\\Users\\jmvail\\Anaconda3\\envs\\dsi\\lib\\site-packages\\ipykernel\\__main__.py:16: SettingWithCopyWarning: \n",
      "A value is trying to be set on a copy of a slice from a DataFrame.\n",
      "Try using .loc[row_indexer,col_indexer] = value instead\n",
      "\n",
      "See the caveats in the documentation: http://pandas.pydata.org/pandas-docs/stable/indexing.html#indexing-view-versus-copy\n"
     ]
    }
   ],
   "source": [
    "X_test = clean_me(X_test)"
   ]
  },
  {
   "cell_type": "code",
   "execution_count": 93,
   "metadata": {},
   "outputs": [],
   "source": [
    "test = clean_me(test)"
   ]
  },
  {
   "cell_type": "markdown",
   "metadata": {},
   "source": [
    "**Cleaning Done**"
   ]
  },
  {
   "cell_type": "markdown",
   "metadata": {},
   "source": [
    "Used lasso with all the variables to pair down the coefficience"
   ]
  },
  {
   "cell_type": "code",
   "execution_count": 94,
   "metadata": {},
   "outputs": [],
   "source": [
    "def get_dummied(train, test):\n",
    "    list = []\n",
    "    \n",
    "    for i in train.columns:\n",
    "        if train[i].dtype == object:\n",
    "            list.append(i)\n",
    "            #puts all object names in list\n",
    "    full_data = pd.concat([train, test], axis=0)\n",
    "    #puts training data and test data in one dataframe\n",
    "    full_data = pd.get_dummies(full_data, columns=list, drop_first=True)\n",
    "    #applies get dummy to whole list\n",
    "    X_dummied = full_data[:len(train)]\n",
    "    test_dummied = full_data.iloc[-len(test):]\n",
    "    #splits full data back into 2 data frames\n",
    "    \n",
    "    return X_dummied, test_dummied"
   ]
  },
  {
   "cell_type": "code",
   "execution_count": 95,
   "metadata": {},
   "outputs": [],
   "source": [
    "train_dum, test_dum = get_dummied(X_train, X_test)"
   ]
  },
  {
   "cell_type": "code",
   "execution_count": 98,
   "metadata": {},
   "outputs": [],
   "source": [
    " ss = StandardScaler()"
   ]
  },
  {
   "cell_type": "code",
   "execution_count": 99,
   "metadata": {},
   "outputs": [],
   "source": [
    "train_scaled = ss.fit_transform(train_dum)"
   ]
  },
  {
   "cell_type": "markdown",
   "metadata": {},
   "source": [
    "**NOTE**\n",
    "\n",
    "should be transforming on fit done on train. Will be fixed in future updates"
   ]
  },
  {
   "cell_type": "code",
   "execution_count": 100,
   "metadata": {},
   "outputs": [],
   "source": [
    "test_scaled = ss.fit_transform(test_dum)"
   ]
  },
  {
   "cell_type": "code",
   "execution_count": 101,
   "metadata": {},
   "outputs": [
    {
     "name": "stdout",
     "output_type": "stream",
     "text": [
      "999.8996577022181 :is the optimal alpha\n",
      "0.8939807348036363\n"
     ]
    }
   ],
   "source": [
    "#l_alphas = np.arange(0.001, 0.2, 0.0001) \n",
    "lasso_m = LassoCV( cv=3)\n",
    "lasso_m =lasso_m.fit(train_scaled, y_train)\n",
    "lasso_optimal_alpha = lasso_m.alpha_\n",
    "print(lasso_optimal_alpha,':is the optimal alpha')\n",
    "\n",
    "print(lasso_m.score(test_scaled, y_test))"
   ]
  },
  {
   "cell_type": "code",
   "execution_count": 102,
   "metadata": {
    "collapsed": true
   },
   "outputs": [
    {
     "data": {
      "text/plain": [
       "array([ 0.00000000e+00,  2.05441135e+03,  3.75119501e+03,  4.30450181e+03,\n",
       "        1.07778534e+03, -0.00000000e+00,  3.66499855e+03,  3.37510560e+03,\n",
       "        0.00000000e+00, -2.50861650e+02,  1.94688100e+04,  1.61649389e+03,\n",
       "       -0.00000000e+00, -0.00000000e+00,  6.86305208e+03,  0.00000000e+00,\n",
       "        1.93018432e+03,  2.58766796e+02, -0.00000000e+00,  3.25853353e+02,\n",
       "        3.12315243e+03,  0.00000000e+00, -0.00000000e+00, -0.00000000e+00,\n",
       "       -0.00000000e+00,  0.00000000e+00, -0.00000000e+00,  0.00000000e+00,\n",
       "        0.00000000e+00, -0.00000000e+00, -0.00000000e+00, -0.00000000e+00,\n",
       "       -0.00000000e+00, -1.93069011e+02, -1.38506036e+03, -2.54241246e+01,\n",
       "       -0.00000000e+00, -3.44304270e+02, -5.30382753e+02,  1.07272880e+02,\n",
       "        0.00000000e+00,  0.00000000e+00,  0.00000000e+00, -1.35672836e+03,\n",
       "       -0.00000000e+00, -0.00000000e+00, -0.00000000e+00,  8.33587465e+02,\n",
       "       -4.50393911e+03, -0.00000000e+00,  1.92141088e+02,  0.00000000e+00,\n",
       "       -0.00000000e+00, -4.29634109e+02,  0.00000000e+00,  1.51843072e+03,\n",
       "       -0.00000000e+00, -0.00000000e+00,  0.00000000e+00,  0.00000000e+00,\n",
       "       -0.00000000e+00,  0.00000000e+00, -0.00000000e+00,  0.00000000e+00,\n",
       "        4.65805227e+02,  0.00000000e+00,  2.91468633e+03, -1.47295243e+03,\n",
       "       -0.00000000e+00, -0.00000000e+00,  0.00000000e+00, -5.23492277e+02,\n",
       "        0.00000000e+00, -1.26041373e+02,  0.00000000e+00, -4.39571169e+01,\n",
       "        0.00000000e+00, -0.00000000e+00,  2.64467384e+03,  3.30225246e+03,\n",
       "       -8.82463756e+02, -0.00000000e+00,  0.00000000e+00, -4.75800932e+01,\n",
       "        5.74985670e+02,  3.76049052e+03,  0.00000000e+00,  1.27627315e+03,\n",
       "       -0.00000000e+00,  1.44808761e+03,  9.70773012e+02,  5.24718555e+02,\n",
       "       -0.00000000e+00, -0.00000000e+00, -0.00000000e+00, -0.00000000e+00,\n",
       "       -0.00000000e+00, -0.00000000e+00,  0.00000000e+00,  0.00000000e+00,\n",
       "       -0.00000000e+00,  0.00000000e+00,  0.00000000e+00, -0.00000000e+00,\n",
       "       -0.00000000e+00, -1.80760170e+03, -3.34940457e+03,  0.00000000e+00,\n",
       "        0.00000000e+00,  0.00000000e+00,  0.00000000e+00, -0.00000000e+00,\n",
       "       -0.00000000e+00, -0.00000000e+00, -0.00000000e+00, -2.40454620e+02,\n",
       "       -1.22005801e+03, -1.84945657e+02, -0.00000000e+00,  2.26407791e+03,\n",
       "        8.43988263e+03,  1.44238977e+04,  8.24054535e+03, -0.00000000e+00,\n",
       "       -2.84477263e+03, -1.48024445e+03, -0.00000000e+00,  0.00000000e+00,\n",
       "        1.06899895e+03,  5.84787986e+02,  2.88383000e+02,  0.00000000e+00,\n",
       "        0.00000000e+00,  0.00000000e+00,  0.00000000e+00, -0.00000000e+00,\n",
       "        2.01116921e+03,  0.00000000e+00,  0.00000000e+00,  0.00000000e+00,\n",
       "       -8.72279546e+02, -0.00000000e+00,  0.00000000e+00, -0.00000000e+00,\n",
       "        0.00000000e+00, -7.88823410e+02, -0.00000000e+00,  0.00000000e+00,\n",
       "       -7.77003952e+02,  0.00000000e+00, -1.30061504e+02, -0.00000000e+00,\n",
       "       -0.00000000e+00, -0.00000000e+00,  0.00000000e+00, -0.00000000e+00,\n",
       "        0.00000000e+00, -0.00000000e+00,  0.00000000e+00, -1.10584908e+02,\n",
       "        0.00000000e+00, -0.00000000e+00,  0.00000000e+00, -0.00000000e+00,\n",
       "        0.00000000e+00, -0.00000000e+00,  0.00000000e+00,  1.49220839e+02,\n",
       "        0.00000000e+00,  0.00000000e+00,  0.00000000e+00,  0.00000000e+00,\n",
       "       -0.00000000e+00,  0.00000000e+00, -0.00000000e+00, -0.00000000e+00,\n",
       "       -0.00000000e+00,  0.00000000e+00, -0.00000000e+00,  0.00000000e+00,\n",
       "        0.00000000e+00,  0.00000000e+00, -0.00000000e+00, -4.62442907e+02,\n",
       "        0.00000000e+00, -0.00000000e+00,  0.00000000e+00,  0.00000000e+00,\n",
       "       -0.00000000e+00,  0.00000000e+00, -0.00000000e+00,  0.00000000e+00,\n",
       "       -0.00000000e+00, -0.00000000e+00,  0.00000000e+00, -0.00000000e+00,\n",
       "        0.00000000e+00,  0.00000000e+00,  0.00000000e+00, -0.00000000e+00,\n",
       "        0.00000000e+00, -1.56104234e+02, -0.00000000e+00, -0.00000000e+00,\n",
       "       -0.00000000e+00, -0.00000000e+00,  0.00000000e+00, -0.00000000e+00,\n",
       "       -0.00000000e+00, -0.00000000e+00, -0.00000000e+00,  0.00000000e+00,\n",
       "       -0.00000000e+00,  0.00000000e+00,  0.00000000e+00,  0.00000000e+00,\n",
       "       -0.00000000e+00, -0.00000000e+00,  0.00000000e+00, -0.00000000e+00,\n",
       "       -0.00000000e+00, -9.11607835e+01,  0.00000000e+00,  2.41783465e+01,\n",
       "       -4.93719389e+01,  0.00000000e+00, -0.00000000e+00,  0.00000000e+00,\n",
       "        0.00000000e+00,  0.00000000e+00,  1.75797912e+02, -2.04961962e+01,\n",
       "        0.00000000e+00,  0.00000000e+00,  0.00000000e+00,  0.00000000e+00,\n",
       "       -0.00000000e+00,  0.00000000e+00,  2.28602175e+02,  0.00000000e+00,\n",
       "        1.10707516e+03,  1.46722765e+03, -0.00000000e+00, -0.00000000e+00,\n",
       "        0.00000000e+00, -0.00000000e+00,  0.00000000e+00, -0.00000000e+00,\n",
       "       -0.00000000e+00, -0.00000000e+00, -0.00000000e+00,  0.00000000e+00,\n",
       "       -0.00000000e+00, -0.00000000e+00,  0.00000000e+00, -0.00000000e+00,\n",
       "        0.00000000e+00, -0.00000000e+00,  0.00000000e+00, -0.00000000e+00,\n",
       "        0.00000000e+00,  0.00000000e+00, -0.00000000e+00, -0.00000000e+00,\n",
       "       -0.00000000e+00, -0.00000000e+00,  0.00000000e+00, -0.00000000e+00,\n",
       "       -0.00000000e+00,  0.00000000e+00, -0.00000000e+00,  0.00000000e+00,\n",
       "        0.00000000e+00, -0.00000000e+00, -0.00000000e+00, -0.00000000e+00,\n",
       "        0.00000000e+00, -0.00000000e+00,  0.00000000e+00, -0.00000000e+00,\n",
       "       -0.00000000e+00, -4.66979252e+02, -0.00000000e+00,  0.00000000e+00,\n",
       "       -0.00000000e+00,  0.00000000e+00,  0.00000000e+00,  0.00000000e+00,\n",
       "        5.06959539e+01,  0.00000000e+00,  0.00000000e+00,  0.00000000e+00,\n",
       "        0.00000000e+00,  2.01622677e+02,  0.00000000e+00,  0.00000000e+00,\n",
       "        0.00000000e+00,  0.00000000e+00,  4.93618012e+02,  2.47597722e+02,\n",
       "        7.34443962e+02,  0.00000000e+00,  1.03889320e+03, -1.67080595e+02,\n",
       "        0.00000000e+00,  0.00000000e+00, -0.00000000e+00,  0.00000000e+00,\n",
       "        0.00000000e+00,  1.20622611e+02,  0.00000000e+00, -0.00000000e+00,\n",
       "        0.00000000e+00,  0.00000000e+00, -5.48030329e+02,  7.64132000e+02,\n",
       "       -0.00000000e+00,  1.21998374e+03, -5.22853147e+02,  0.00000000e+00,\n",
       "       -0.00000000e+00, -0.00000000e+00,  0.00000000e+00, -2.52054532e+02,\n",
       "        1.16339179e+03,  0.00000000e+00, -0.00000000e+00,  0.00000000e+00,\n",
       "       -0.00000000e+00,  0.00000000e+00, -0.00000000e+00,  0.00000000e+00,\n",
       "       -0.00000000e+00,  0.00000000e+00, -0.00000000e+00, -0.00000000e+00,\n",
       "        0.00000000e+00, -1.42875542e+03,  1.31054265e+03,  0.00000000e+00,\n",
       "       -0.00000000e+00, -0.00000000e+00, -0.00000000e+00, -0.00000000e+00,\n",
       "        3.92547841e+02, -1.14937373e+03,  0.00000000e+00, -6.23932671e+03,\n",
       "       -8.74167626e+01,  0.00000000e+00,  0.00000000e+00, -0.00000000e+00,\n",
       "       -0.00000000e+00,  1.10314593e+03, -2.80424242e+01,  0.00000000e+00,\n",
       "        0.00000000e+00,  3.82936092e+03, -0.00000000e+00,  4.43719191e+02,\n",
       "       -0.00000000e+00, -0.00000000e+00,  0.00000000e+00, -1.31352386e+03,\n",
       "        0.00000000e+00, -0.00000000e+00,  0.00000000e+00,  0.00000000e+00,\n",
       "        3.51820750e+03,  0.00000000e+00, -2.03335277e+02,  5.34111559e+02,\n",
       "        0.00000000e+00,  3.47363636e+03, -0.00000000e+00, -0.00000000e+00,\n",
       "       -3.23244963e+02,  0.00000000e+00,  0.00000000e+00,  0.00000000e+00,\n",
       "       -0.00000000e+00, -0.00000000e+00,  0.00000000e+00,  0.00000000e+00,\n",
       "       -0.00000000e+00, -6.85775563e+02, -0.00000000e+00, -4.48260511e+02,\n",
       "        0.00000000e+00, -0.00000000e+00, -1.59265408e+03,  0.00000000e+00,\n",
       "       -0.00000000e+00,  0.00000000e+00, -0.00000000e+00,  0.00000000e+00,\n",
       "       -1.06346979e+03,  0.00000000e+00,  3.30906330e+03,  0.00000000e+00,\n",
       "        4.17867062e+02, -2.57250931e+02, -0.00000000e+00, -0.00000000e+00,\n",
       "        0.00000000e+00,  8.42995171e+02, -1.98994766e+03, -0.00000000e+00,\n",
       "        0.00000000e+00,  3.12488281e+03, -0.00000000e+00, -1.95284859e+02,\n",
       "       -5.14291398e+02, -0.00000000e+00, -2.25944008e+03, -0.00000000e+00,\n",
       "       -0.00000000e+00, -0.00000000e+00, -0.00000000e+00, -0.00000000e+00,\n",
       "        6.56654931e+02,  1.27820017e+03,  4.91701927e+02,  4.46456064e+03,\n",
       "       -3.74488750e+02,  0.00000000e+00,  0.00000000e+00, -1.22515606e+04,\n",
       "       -0.00000000e+00, -0.00000000e+00, -3.77714555e+02,  0.00000000e+00,\n",
       "       -2.54146481e+02,  0.00000000e+00,  1.77312702e+03,  1.15157116e+03,\n",
       "        2.91957077e+03, -4.52034871e+03,  1.24442579e+03,  0.00000000e+00,\n",
       "       -0.00000000e+00,  9.24650120e+02, -0.00000000e+00,  4.66061458e+02,\n",
       "        0.00000000e+00,  9.25290077e+02, -7.18328015e+02,  0.00000000e+00,\n",
       "       -5.55677331e+00, -0.00000000e+00,  1.84339379e+03, -0.00000000e+00,\n",
       "       -0.00000000e+00,  3.09006047e+01, -4.00047554e+02,  3.76141470e+03,\n",
       "       -0.00000000e+00, -0.00000000e+00,  0.00000000e+00, -5.44090815e+02,\n",
       "        0.00000000e+00, -7.64887422e+02,  0.00000000e+00, -0.00000000e+00,\n",
       "        6.06322417e+02,  0.00000000e+00, -0.00000000e+00, -4.94165401e+03,\n",
       "       -0.00000000e+00,  0.00000000e+00, -0.00000000e+00, -0.00000000e+00,\n",
       "       -0.00000000e+00, -5.15618160e+02,  0.00000000e+00,  0.00000000e+00,\n",
       "        0.00000000e+00, -0.00000000e+00, -1.06314289e+03, -0.00000000e+00,\n",
       "        0.00000000e+00,  0.00000000e+00,  0.00000000e+00,  0.00000000e+00,\n",
       "       -0.00000000e+00,  0.00000000e+00, -0.00000000e+00, -0.00000000e+00,\n",
       "       -1.28845563e+01,  0.00000000e+00, -0.00000000e+00, -0.00000000e+00,\n",
       "        0.00000000e+00,  0.00000000e+00,  3.71984394e+02,  0.00000000e+00,\n",
       "       -0.00000000e+00, -1.95452948e+02,  2.40813804e+03,  4.68520034e+02,\n",
       "       -0.00000000e+00])"
      ]
     },
     "execution_count": 102,
     "metadata": {},
     "output_type": "execute_result"
    }
   ],
   "source": [
    "lasso_m.coef_"
   ]
  },
  {
   "cell_type": "code",
   "execution_count": 108,
   "metadata": {},
   "outputs": [],
   "source": [
    "train_dum, pred_dum = get_dummied(X_train, test)"
   ]
  },
  {
   "cell_type": "code",
   "execution_count": 109,
   "metadata": {},
   "outputs": [],
   "source": [
    "train_scaled = ss.fit_transform(train_dum)"
   ]
  },
  {
   "cell_type": "code",
   "execution_count": 110,
   "metadata": {},
   "outputs": [],
   "source": [
    "pred_scaled = ss.fit_transform(pred_dum)"
   ]
  },
  {
   "cell_type": "code",
   "execution_count": 111,
   "metadata": {},
   "outputs": [],
   "source": [
    "lasso_m = LassoCV( cv=3)\n",
    "lasso_m =lasso_m.fit(train_scaled, y_train)\n",
    "lasso_optimal_alpha = lasso_m.alpha_"
   ]
  },
  {
   "cell_type": "code",
   "execution_count": 112,
   "metadata": {},
   "outputs": [],
   "source": [
    "y_hat = lasso_m.predict(pred_scaled)"
   ]
  },
  {
   "cell_type": "code",
   "execution_count": 114,
   "metadata": {},
   "outputs": [
    {
     "data": {
      "text/html": [
       "<div>\n",
       "<style scoped>\n",
       "    .dataframe tbody tr th:only-of-type {\n",
       "        vertical-align: middle;\n",
       "    }\n",
       "\n",
       "    .dataframe tbody tr th {\n",
       "        vertical-align: top;\n",
       "    }\n",
       "\n",
       "    .dataframe thead th {\n",
       "        text-align: right;\n",
       "    }\n",
       "</style>\n",
       "<table border=\"1\" class=\"dataframe\">\n",
       "  <thead>\n",
       "    <tr style=\"text-align: right;\">\n",
       "      <th></th>\n",
       "      <th>SalePrice</th>\n",
       "    </tr>\n",
       "    <tr>\n",
       "      <th>Id</th>\n",
       "      <th></th>\n",
       "    </tr>\n",
       "  </thead>\n",
       "  <tbody>\n",
       "    <tr>\n",
       "      <th>2658</th>\n",
       "      <td>125336.343646</td>\n",
       "    </tr>\n",
       "    <tr>\n",
       "      <th>2718</th>\n",
       "      <td>166959.196746</td>\n",
       "    </tr>\n",
       "    <tr>\n",
       "      <th>2414</th>\n",
       "      <td>210848.683388</td>\n",
       "    </tr>\n",
       "    <tr>\n",
       "      <th>1989</th>\n",
       "      <td>123624.395455</td>\n",
       "    </tr>\n",
       "    <tr>\n",
       "      <th>625</th>\n",
       "      <td>189013.812195</td>\n",
       "    </tr>\n",
       "  </tbody>\n",
       "</table>\n",
       "</div>"
      ],
      "text/plain": [
       "          SalePrice\n",
       "Id                 \n",
       "2658  125336.343646\n",
       "2718  166959.196746\n",
       "2414  210848.683388\n",
       "1989  123624.395455\n",
       "625   189013.812195"
      ]
     },
     "execution_count": 114,
     "metadata": {},
     "output_type": "execute_result"
    }
   ],
   "source": [
    "#scale_trial_2 = pd.DataFrame(y_hat, index = test_id)\n",
    "#scale_trial_2.columns = ['SalePrice']\n",
    "#scale_trial_2.head()"
   ]
  },
  {
   "cell_type": "code",
   "execution_count": 115,
   "metadata": {},
   "outputs": [],
   "source": [
    "#scale_trial_2.to_csv(\"./scale_trial_2.csv\")"
   ]
  },
  {
   "cell_type": "markdown",
   "metadata": {},
   "source": [
    "Used good coefficients and used poly features and lassoed again. Did not work"
   ]
  },
  {
   "cell_type": "code",
   "execution_count": null,
   "metadata": {},
   "outputs": [],
   "source": [
    "coefs = pd.DataFrame([lasso_m.coef_], columns= train_dum.columns)\n",
    "coefs = coefs.T"
   ]
  },
  {
   "cell_type": "code",
   "execution_count": null,
   "metadata": {},
   "outputs": [],
   "source": [
    "mask = coefs[0] > 0\n",
    "good = coefs[mask]\n",
    "good = good.T"
   ]
  },
  {
   "cell_type": "code",
   "execution_count": 229,
   "metadata": {},
   "outputs": [],
   "source": [
    "pd.options.display.max_rows = 999"
   ]
  },
  {
   "cell_type": "code",
   "execution_count": 231,
   "metadata": {},
   "outputs": [
    {
     "data": {
      "text/plain": [
       "999"
      ]
     },
     "execution_count": 231,
     "metadata": {},
     "output_type": "execute_result"
    }
   ],
   "source": [
    "pd.options.display.max_rows"
   ]
  },
  {
   "cell_type": "markdown",
   "metadata": {},
   "source": [
    "Coefficient List (most important features)"
   ]
  },
  {
   "cell_type": "code",
   "execution_count": 232,
   "metadata": {},
   "outputs": [
    {
     "data": {
      "text/html": [
       "<div>\n",
       "<style scoped>\n",
       "    .dataframe tbody tr th:only-of-type {\n",
       "        vertical-align: middle;\n",
       "    }\n",
       "\n",
       "    .dataframe tbody tr th {\n",
       "        vertical-align: top;\n",
       "    }\n",
       "\n",
       "    .dataframe thead th {\n",
       "        text-align: right;\n",
       "    }\n",
       "</style>\n",
       "<table border=\"1\" class=\"dataframe\">\n",
       "  <thead>\n",
       "    <tr style=\"text-align: right;\">\n",
       "      <th></th>\n",
       "      <th>0</th>\n",
       "    </tr>\n",
       "  </thead>\n",
       "  <tbody>\n",
       "    <tr>\n",
       "      <th>Lot Area</th>\n",
       "      <td>2054.413702</td>\n",
       "    </tr>\n",
       "    <tr>\n",
       "      <th>Mas Vnr Area</th>\n",
       "      <td>3751.197423</td>\n",
       "    </tr>\n",
       "    <tr>\n",
       "      <th>BsmtFin SF 1</th>\n",
       "      <td>4304.499654</td>\n",
       "    </tr>\n",
       "    <tr>\n",
       "      <th>BsmtFin SF 2</th>\n",
       "      <td>1077.786296</td>\n",
       "    </tr>\n",
       "    <tr>\n",
       "      <th>Total Bsmt SF</th>\n",
       "      <td>3664.996092</td>\n",
       "    </tr>\n",
       "    <tr>\n",
       "      <th>1st Flr SF</th>\n",
       "      <td>3375.113854</td>\n",
       "    </tr>\n",
       "    <tr>\n",
       "      <th>Gr Liv Area</th>\n",
       "      <td>19468.799724</td>\n",
       "    </tr>\n",
       "    <tr>\n",
       "      <th>Bsmt Full Bath</th>\n",
       "      <td>1616.491659</td>\n",
       "    </tr>\n",
       "    <tr>\n",
       "      <th>Garage Cars</th>\n",
       "      <td>6863.049064</td>\n",
       "    </tr>\n",
       "    <tr>\n",
       "      <th>Wood Deck SF</th>\n",
       "      <td>1930.182800</td>\n",
       "    </tr>\n",
       "    <tr>\n",
       "      <th>Open Porch SF</th>\n",
       "      <td>258.763374</td>\n",
       "    </tr>\n",
       "    <tr>\n",
       "      <th>3Ssn Porch</th>\n",
       "      <td>325.853168</td>\n",
       "    </tr>\n",
       "    <tr>\n",
       "      <th>Screen Porch</th>\n",
       "      <td>3123.151141</td>\n",
       "    </tr>\n",
       "    <tr>\n",
       "      <th>MS Zoning_FV</th>\n",
       "      <td>107.283773</td>\n",
       "    </tr>\n",
       "    <tr>\n",
       "      <th>Lot Shape_IR2</th>\n",
       "      <td>833.584974</td>\n",
       "    </tr>\n",
       "    <tr>\n",
       "      <th>Land Contour_HLS</th>\n",
       "      <td>192.141421</td>\n",
       "    </tr>\n",
       "    <tr>\n",
       "      <th>Lot Config_CulDSac</th>\n",
       "      <td>1518.431754</td>\n",
       "    </tr>\n",
       "    <tr>\n",
       "      <th>Neighborhood_ClearCr</th>\n",
       "      <td>465.805510</td>\n",
       "    </tr>\n",
       "    <tr>\n",
       "      <th>Neighborhood_Crawfor</th>\n",
       "      <td>2914.687082</td>\n",
       "    </tr>\n",
       "    <tr>\n",
       "      <th>Neighborhood_NoRidge</th>\n",
       "      <td>2644.673939</td>\n",
       "    </tr>\n",
       "    <tr>\n",
       "      <th>Neighborhood_NridgHt</th>\n",
       "      <td>3302.249655</td>\n",
       "    </tr>\n",
       "    <tr>\n",
       "      <th>Neighborhood_Somerst</th>\n",
       "      <td>574.978239</td>\n",
       "    </tr>\n",
       "    <tr>\n",
       "      <th>Neighborhood_StoneBr</th>\n",
       "      <td>3760.491218</td>\n",
       "    </tr>\n",
       "    <tr>\n",
       "      <th>Neighborhood_Veenker</th>\n",
       "      <td>1276.271680</td>\n",
       "    </tr>\n",
       "    <tr>\n",
       "      <th>Condition 1_Norm</th>\n",
       "      <td>1448.086278</td>\n",
       "    </tr>\n",
       "    <tr>\n",
       "      <th>Condition 1_PosA</th>\n",
       "      <td>970.772203</td>\n",
       "    </tr>\n",
       "    <tr>\n",
       "      <th>Condition 1_PosN</th>\n",
       "      <td>524.718793</td>\n",
       "    </tr>\n",
       "    <tr>\n",
       "      <th>Overall Qual_7</th>\n",
       "      <td>2264.074369</td>\n",
       "    </tr>\n",
       "    <tr>\n",
       "      <th>Overall Qual_8</th>\n",
       "      <td>8439.884637</td>\n",
       "    </tr>\n",
       "    <tr>\n",
       "      <th>Overall Qual_9</th>\n",
       "      <td>14423.897752</td>\n",
       "    </tr>\n",
       "    <tr>\n",
       "      <th>Overall Qual_10</th>\n",
       "      <td>8240.546495</td>\n",
       "    </tr>\n",
       "    <tr>\n",
       "      <th>Overall Cond_7</th>\n",
       "      <td>1069.003315</td>\n",
       "    </tr>\n",
       "    <tr>\n",
       "      <th>Overall Cond_8</th>\n",
       "      <td>584.790019</td>\n",
       "    </tr>\n",
       "    <tr>\n",
       "      <th>Overall Cond_9</th>\n",
       "      <td>288.383419</td>\n",
       "    </tr>\n",
       "    <tr>\n",
       "      <th>Year Built_1892</th>\n",
       "      <td>2011.168345</td>\n",
       "    </tr>\n",
       "    <tr>\n",
       "      <th>Year Built_1932</th>\n",
       "      <td>149.207515</td>\n",
       "    </tr>\n",
       "    <tr>\n",
       "      <th>Year Built_1991</th>\n",
       "      <td>24.179676</td>\n",
       "    </tr>\n",
       "    <tr>\n",
       "      <th>Year Built_1998</th>\n",
       "      <td>175.796850</td>\n",
       "    </tr>\n",
       "    <tr>\n",
       "      <th>Year Built_2006</th>\n",
       "      <td>228.601388</td>\n",
       "    </tr>\n",
       "    <tr>\n",
       "      <th>Year Built_2008</th>\n",
       "      <td>1107.075814</td>\n",
       "    </tr>\n",
       "    <tr>\n",
       "      <th>Year Built_2009</th>\n",
       "      <td>1467.228594</td>\n",
       "    </tr>\n",
       "    <tr>\n",
       "      <th>Year Remod/Add_1996</th>\n",
       "      <td>50.696335</td>\n",
       "    </tr>\n",
       "    <tr>\n",
       "      <th>Year Remod/Add_2001</th>\n",
       "      <td>201.620985</td>\n",
       "    </tr>\n",
       "    <tr>\n",
       "      <th>Year Remod/Add_2006</th>\n",
       "      <td>493.615053</td>\n",
       "    </tr>\n",
       "    <tr>\n",
       "      <th>Year Remod/Add_2007</th>\n",
       "      <td>247.597299</td>\n",
       "    </tr>\n",
       "    <tr>\n",
       "      <th>Year Remod/Add_2008</th>\n",
       "      <td>734.446270</td>\n",
       "    </tr>\n",
       "    <tr>\n",
       "      <th>Year Remod/Add_2010</th>\n",
       "      <td>1038.893064</td>\n",
       "    </tr>\n",
       "    <tr>\n",
       "      <th>Roof Matl_Membran</th>\n",
       "      <td>120.622143</td>\n",
       "    </tr>\n",
       "    <tr>\n",
       "      <th>Exterior 1st_BrkFace</th>\n",
       "      <td>764.133732</td>\n",
       "    </tr>\n",
       "    <tr>\n",
       "      <th>Exterior 1st_CemntBd</th>\n",
       "      <td>1219.991073</td>\n",
       "    </tr>\n",
       "    <tr>\n",
       "      <th>Exterior 1st_VinylSd</th>\n",
       "      <td>1163.700668</td>\n",
       "    </tr>\n",
       "    <tr>\n",
       "      <th>Exterior 2nd_VinylSd</th>\n",
       "      <td>1310.254377</td>\n",
       "    </tr>\n",
       "    <tr>\n",
       "      <th>Mas Vnr Type_Stone</th>\n",
       "      <td>392.535691</td>\n",
       "    </tr>\n",
       "    <tr>\n",
       "      <th>Foundation_PConc</th>\n",
       "      <td>1103.142979</td>\n",
       "    </tr>\n",
       "    <tr>\n",
       "      <th>Bsmt Qual_Ex</th>\n",
       "      <td>3829.354303</td>\n",
       "    </tr>\n",
       "    <tr>\n",
       "      <th>Bsmt Qual_Gd</th>\n",
       "      <td>443.710103</td>\n",
       "    </tr>\n",
       "    <tr>\n",
       "      <th>Bsmt Exposure_Gd</th>\n",
       "      <td>3518.203936</td>\n",
       "    </tr>\n",
       "    <tr>\n",
       "      <th>BsmtFin Type 1_ALQ</th>\n",
       "      <td>534.112839</td>\n",
       "    </tr>\n",
       "    <tr>\n",
       "      <th>BsmtFin Type 1_GLQ</th>\n",
       "      <td>3473.636738</td>\n",
       "    </tr>\n",
       "    <tr>\n",
       "      <th>Full Bath_3</th>\n",
       "      <td>3309.065710</td>\n",
       "    </tr>\n",
       "    <tr>\n",
       "      <th>Half Bath_1</th>\n",
       "      <td>417.875811</td>\n",
       "    </tr>\n",
       "    <tr>\n",
       "      <th>Bedroom AbvGr_4</th>\n",
       "      <td>842.995365</td>\n",
       "    </tr>\n",
       "    <tr>\n",
       "      <th>Kitchen AbvGr_1</th>\n",
       "      <td>3124.884047</td>\n",
       "    </tr>\n",
       "    <tr>\n",
       "      <th>TotRms AbvGrd_8</th>\n",
       "      <td>656.654442</td>\n",
       "    </tr>\n",
       "    <tr>\n",
       "      <th>TotRms AbvGrd_9</th>\n",
       "      <td>1278.201073</td>\n",
       "    </tr>\n",
       "    <tr>\n",
       "      <th>TotRms AbvGrd_10</th>\n",
       "      <td>491.702340</td>\n",
       "    </tr>\n",
       "    <tr>\n",
       "      <th>TotRms AbvGrd_11</th>\n",
       "      <td>4464.561038</td>\n",
       "    </tr>\n",
       "    <tr>\n",
       "      <th>Functional_Typ</th>\n",
       "      <td>1773.125362</td>\n",
       "    </tr>\n",
       "    <tr>\n",
       "      <th>Fireplaces_1</th>\n",
       "      <td>1151.577755</td>\n",
       "    </tr>\n",
       "    <tr>\n",
       "      <th>Fireplaces_2</th>\n",
       "      <td>2919.577959</td>\n",
       "    </tr>\n",
       "    <tr>\n",
       "      <th>Fireplaces_4</th>\n",
       "      <td>1244.426333</td>\n",
       "    </tr>\n",
       "    <tr>\n",
       "      <th>Fireplace Qu_Gd</th>\n",
       "      <td>924.650215</td>\n",
       "    </tr>\n",
       "    <tr>\n",
       "      <th>Fireplace Qu_TA</th>\n",
       "      <td>466.059409</td>\n",
       "    </tr>\n",
       "    <tr>\n",
       "      <th>Garage Type_Attchd</th>\n",
       "      <td>925.289294</td>\n",
       "    </tr>\n",
       "    <tr>\n",
       "      <th>Garage Finish_Fin</th>\n",
       "      <td>1843.391485</td>\n",
       "    </tr>\n",
       "    <tr>\n",
       "      <th>Garage Qual_Ex</th>\n",
       "      <td>30.901618</td>\n",
       "    </tr>\n",
       "    <tr>\n",
       "      <th>Garage Qual_Gd</th>\n",
       "      <td>3761.414476</td>\n",
       "    </tr>\n",
       "    <tr>\n",
       "      <th>Paved Drive_Y</th>\n",
       "      <td>606.320800</td>\n",
       "    </tr>\n",
       "    <tr>\n",
       "      <th>Sale Type_Con</th>\n",
       "      <td>371.984521</td>\n",
       "    </tr>\n",
       "    <tr>\n",
       "      <th>Sale Type_New</th>\n",
       "      <td>2408.140801</td>\n",
       "    </tr>\n",
       "    <tr>\n",
       "      <th>Sale Type_Oth</th>\n",
       "      <td>468.520118</td>\n",
       "    </tr>\n",
       "  </tbody>\n",
       "</table>\n",
       "</div>"
      ],
      "text/plain": [
       "                                 0\n",
       "Lot Area               2054.413702\n",
       "Mas Vnr Area           3751.197423\n",
       "BsmtFin SF 1           4304.499654\n",
       "BsmtFin SF 2           1077.786296\n",
       "Total Bsmt SF          3664.996092\n",
       "1st Flr SF             3375.113854\n",
       "Gr Liv Area           19468.799724\n",
       "Bsmt Full Bath         1616.491659\n",
       "Garage Cars            6863.049064\n",
       "Wood Deck SF           1930.182800\n",
       "Open Porch SF           258.763374\n",
       "3Ssn Porch              325.853168\n",
       "Screen Porch           3123.151141\n",
       "MS Zoning_FV            107.283773\n",
       "Lot Shape_IR2           833.584974\n",
       "Land Contour_HLS        192.141421\n",
       "Lot Config_CulDSac     1518.431754\n",
       "Neighborhood_ClearCr    465.805510\n",
       "Neighborhood_Crawfor   2914.687082\n",
       "Neighborhood_NoRidge   2644.673939\n",
       "Neighborhood_NridgHt   3302.249655\n",
       "Neighborhood_Somerst    574.978239\n",
       "Neighborhood_StoneBr   3760.491218\n",
       "Neighborhood_Veenker   1276.271680\n",
       "Condition 1_Norm       1448.086278\n",
       "Condition 1_PosA        970.772203\n",
       "Condition 1_PosN        524.718793\n",
       "Overall Qual_7         2264.074369\n",
       "Overall Qual_8         8439.884637\n",
       "Overall Qual_9        14423.897752\n",
       "Overall Qual_10        8240.546495\n",
       "Overall Cond_7         1069.003315\n",
       "Overall Cond_8          584.790019\n",
       "Overall Cond_9          288.383419\n",
       "Year Built_1892        2011.168345\n",
       "Year Built_1932         149.207515\n",
       "Year Built_1991          24.179676\n",
       "Year Built_1998         175.796850\n",
       "Year Built_2006         228.601388\n",
       "Year Built_2008        1107.075814\n",
       "Year Built_2009        1467.228594\n",
       "Year Remod/Add_1996      50.696335\n",
       "Year Remod/Add_2001     201.620985\n",
       "Year Remod/Add_2006     493.615053\n",
       "Year Remod/Add_2007     247.597299\n",
       "Year Remod/Add_2008     734.446270\n",
       "Year Remod/Add_2010    1038.893064\n",
       "Roof Matl_Membran       120.622143\n",
       "Exterior 1st_BrkFace    764.133732\n",
       "Exterior 1st_CemntBd   1219.991073\n",
       "Exterior 1st_VinylSd   1163.700668\n",
       "Exterior 2nd_VinylSd   1310.254377\n",
       "Mas Vnr Type_Stone      392.535691\n",
       "Foundation_PConc       1103.142979\n",
       "Bsmt Qual_Ex           3829.354303\n",
       "Bsmt Qual_Gd            443.710103\n",
       "Bsmt Exposure_Gd       3518.203936\n",
       "BsmtFin Type 1_ALQ      534.112839\n",
       "BsmtFin Type 1_GLQ     3473.636738\n",
       "Full Bath_3            3309.065710\n",
       "Half Bath_1             417.875811\n",
       "Bedroom AbvGr_4         842.995365\n",
       "Kitchen AbvGr_1        3124.884047\n",
       "TotRms AbvGrd_8         656.654442\n",
       "TotRms AbvGrd_9        1278.201073\n",
       "TotRms AbvGrd_10        491.702340\n",
       "TotRms AbvGrd_11       4464.561038\n",
       "Functional_Typ         1773.125362\n",
       "Fireplaces_1           1151.577755\n",
       "Fireplaces_2           2919.577959\n",
       "Fireplaces_4           1244.426333\n",
       "Fireplace Qu_Gd         924.650215\n",
       "Fireplace Qu_TA         466.059409\n",
       "Garage Type_Attchd      925.289294\n",
       "Garage Finish_Fin      1843.391485\n",
       "Garage Qual_Ex           30.901618\n",
       "Garage Qual_Gd         3761.414476\n",
       "Paved Drive_Y           606.320800\n",
       "Sale Type_Con           371.984521\n",
       "Sale Type_New          2408.140801\n",
       "Sale Type_Oth           468.520118"
      ]
     },
     "execution_count": 232,
     "metadata": {},
     "output_type": "execute_result"
    }
   ],
   "source": [
    "good.T"
   ]
  },
  {
   "cell_type": "code",
   "execution_count": 152,
   "metadata": {
    "collapsed": true
   },
   "outputs": [
    {
     "data": {
      "text/plain": [
       "Index(['Lot Area', 'Mas Vnr Area', 'BsmtFin SF 1', 'BsmtFin SF 2',\n",
       "       'Total Bsmt SF', '1st Flr SF', 'Gr Liv Area', 'Bsmt Full Bath',\n",
       "       'Garage Cars', 'Wood Deck SF', 'Open Porch SF', '3Ssn Porch',\n",
       "       'Screen Porch', 'MS Zoning_FV', 'Lot Shape_IR2', 'Land Contour_HLS',\n",
       "       'Lot Config_CulDSac', 'Neighborhood_ClearCr', 'Neighborhood_Crawfor',\n",
       "       'Neighborhood_NoRidge', 'Neighborhood_NridgHt', 'Neighborhood_Somerst',\n",
       "       'Neighborhood_StoneBr', 'Neighborhood_Veenker', 'Condition 1_Norm',\n",
       "       'Condition 1_PosA', 'Condition 1_PosN', 'Overall Qual_7',\n",
       "       'Overall Qual_8', 'Overall Qual_9', 'Overall Qual_10', 'Overall Cond_7',\n",
       "       'Overall Cond_8', 'Overall Cond_9', 'Year Built_1892',\n",
       "       'Year Built_1932', 'Year Built_1991', 'Year Built_1998',\n",
       "       'Year Built_2006', 'Year Built_2008', 'Year Built_2009',\n",
       "       'Year Remod/Add_1996', 'Year Remod/Add_2001', 'Year Remod/Add_2006',\n",
       "       'Year Remod/Add_2007', 'Year Remod/Add_2008', 'Year Remod/Add_2010',\n",
       "       'Roof Matl_Membran', 'Exterior 1st_BrkFace', 'Exterior 1st_CemntBd',\n",
       "       'Exterior 1st_VinylSd', 'Exterior 2nd_VinylSd', 'Mas Vnr Type_Stone',\n",
       "       'Foundation_PConc', 'Bsmt Qual_Ex', 'Bsmt Qual_Gd', 'Bsmt Exposure_Gd',\n",
       "       'BsmtFin Type 1_ALQ', 'BsmtFin Type 1_GLQ', 'Full Bath_3',\n",
       "       'Half Bath_1', 'Bedroom AbvGr_4', 'Kitchen AbvGr_1', 'TotRms AbvGrd_8',\n",
       "       'TotRms AbvGrd_9', 'TotRms AbvGrd_10', 'TotRms AbvGrd_11',\n",
       "       'Functional_Typ', 'Fireplaces_1', 'Fireplaces_2', 'Fireplaces_4',\n",
       "       'Fireplace Qu_Gd', 'Fireplace Qu_TA', 'Garage Type_Attchd',\n",
       "       'Garage Finish_Fin', 'Garage Qual_Ex', 'Garage Qual_Gd',\n",
       "       'Paved Drive_Y', 'Sale Type_Con', 'Sale Type_New', 'Sale Type_Oth'],\n",
       "      dtype='object')"
      ]
     },
     "execution_count": 152,
     "metadata": {},
     "output_type": "execute_result"
    }
   ],
   "source": [
    "good.columns"
   ]
  },
  {
   "cell_type": "code",
   "execution_count": 185,
   "metadata": {},
   "outputs": [],
   "source": [
    "lasso_col = ['Lot Area', 'Mas Vnr Area', 'BsmtFin SF 1', 'BsmtFin SF 2',\n",
    "       'Total Bsmt SF', '1st Flr SF', 'Gr Liv Area', 'Bsmt Full Bath',\n",
    "       'Garage Cars', 'Wood Deck SF', 'Open Porch SF', '3Ssn Porch',\n",
    "       'Screen Porch', 'MS Zoning_FV', 'Lot Shape_IR2', 'Land Contour_HLS',\n",
    "       'Lot Config_CulDSac', 'Neighborhood_ClearCr', 'Neighborhood_Crawfor',\n",
    "       'Neighborhood_NoRidge', 'Neighborhood_NridgHt', 'Neighborhood_Somerst',\n",
    "       'Neighborhood_StoneBr', 'Neighborhood_Veenker', 'Condition 1_Norm',\n",
    "       'Condition 1_PosA', 'Condition 1_PosN', 'Overall Qual_7',\n",
    "       'Overall Qual_8', 'Overall Qual_9', 'Overall Qual_10', 'Overall Cond_7',\n",
    "       'Overall Cond_8', 'Overall Cond_9', 'Year Built_1892',\n",
    "       'Year Built_1932', 'Year Built_1991', 'Year Built_1998',\n",
    "       'Year Built_2006', 'Year Built_2008', 'Year Built_2009',\n",
    "       'Year Remod/Add_1996', 'Year Remod/Add_2001', 'Year Remod/Add_2006',\n",
    "       'Year Remod/Add_2007', 'Year Remod/Add_2008', 'Year Remod/Add_2010',\n",
    "       'Roof Matl_Membran', 'Exterior 1st_BrkFace', 'Exterior 1st_CemntBd',\n",
    "       'Exterior 1st_VinylSd', 'Exterior 2nd_VinylSd', 'Mas Vnr Type_Stone',\n",
    "       'Foundation_PConc', 'Bsmt Qual_Ex', 'Bsmt Qual_Gd', 'Bsmt Exposure_Gd',\n",
    "       'BsmtFin Type 1_ALQ', 'BsmtFin Type 1_GLQ', 'Full Bath_3',\n",
    "       'Half Bath_1', 'Bedroom AbvGr_4', 'Kitchen AbvGr_1', 'TotRms AbvGrd_8',\n",
    "       'TotRms AbvGrd_9', 'TotRms AbvGrd_10', 'TotRms AbvGrd_11',\n",
    "       'Functional_Typ', 'Fireplaces_1', 'Fireplaces_2', 'Fireplaces_4',\n",
    "       'Fireplace Qu_Gd', 'Fireplace Qu_TA', 'Garage Type_Attchd',\n",
    "       'Garage Finish_Fin', 'Garage Qual_Ex', 'Garage Qual_Gd',\n",
    "       'Paved Drive_Y', 'Sale Type_Con', 'Sale Type_New', 'Sale Type_Oth']"
   ]
  },
  {
   "cell_type": "markdown",
   "metadata": {},
   "source": [
    "# Attempt made on second Lasso,\n",
    "Tried to use polyfeatures on top 50 and lasso "
   ]
  },
  {
   "cell_type": "code",
   "execution_count": 213,
   "metadata": {},
   "outputs": [],
   "source": [
    "train_dum, test_dum = get_dummied(X_train, X_test)"
   ]
  },
  {
   "cell_type": "code",
   "execution_count": 214,
   "metadata": {},
   "outputs": [],
   "source": [
    "train_good = train_dum[lasso_col]"
   ]
  },
  {
   "cell_type": "code",
   "execution_count": 215,
   "metadata": {},
   "outputs": [],
   "source": [
    "test_good = test_dum[lasso_col]"
   ]
  },
  {
   "cell_type": "code",
   "execution_count": 216,
   "metadata": {},
   "outputs": [],
   "source": [
    "train_scaled_good = ss.fit_transform(train_good)"
   ]
  },
  {
   "cell_type": "code",
   "execution_count": 217,
   "metadata": {},
   "outputs": [],
   "source": [
    "test_scaled_good = ss.fit_transform(test_good)"
   ]
  },
  {
   "cell_type": "code",
   "execution_count": 218,
   "metadata": {},
   "outputs": [],
   "source": [
    "poly = PolynomialFeatures(include_bias = True)"
   ]
  },
  {
   "cell_type": "code",
   "execution_count": 219,
   "metadata": {
    "scrolled": true
   },
   "outputs": [],
   "source": [
    "train_scaled_poly_good = poly.fit_transform(train_scaled_good)"
   ]
  },
  {
   "cell_type": "code",
   "execution_count": 220,
   "metadata": {},
   "outputs": [],
   "source": [
    "test_scaled_poly_good = poly.fit_transform(test_scaled_good)"
   ]
  },
  {
   "cell_type": "code",
   "execution_count": 221,
   "metadata": {},
   "outputs": [
    {
     "name": "stderr",
     "output_type": "stream",
     "text": [
      "C:\\Users\\jmvail\\Anaconda3\\envs\\dsi\\lib\\site-packages\\sklearn\\linear_model\\coordinate_descent.py:491: ConvergenceWarning: Objective did not converge. You might want to increase the number of iterations. Fitting data with very small alpha may cause precision problems.\n",
      "  ConvergenceWarning)\n"
     ]
    },
    {
     "name": "stdout",
     "output_type": "stream",
     "text": [
      "444.74925992073867 :is the optimal alpha\n",
      "0.874628278916928\n"
     ]
    },
    {
     "name": "stderr",
     "output_type": "stream",
     "text": [
      "C:\\Users\\jmvail\\Anaconda3\\envs\\dsi\\lib\\site-packages\\sklearn\\linear_model\\coordinate_descent.py:491: ConvergenceWarning: Objective did not converge. You might want to increase the number of iterations. Fitting data with very small alpha may cause precision problems.\n",
      "  ConvergenceWarning)\n"
     ]
    }
   ],
   "source": [
    "lasso_m = LassoCV( cv=3)\n",
    "lasso_m =lasso_m.fit(train_scaled_poly_good, y_train)\n",
    "lasso_optimal_alpha = lasso_m.alpha_\n",
    "print(lasso_optimal_alpha,':is the optimal alpha')\n",
    "\n",
    "print(lasso_m.score(test_scaled_poly_good, y_test))"
   ]
  },
  {
   "cell_type": "code",
   "execution_count": 222,
   "metadata": {},
   "outputs": [
    {
     "data": {
      "text/plain": [
       "array([   0.        , 5176.97547048, 1312.66202262, ...,  185.0038248 ,\n",
       "         -0.        ,   95.14818582])"
      ]
     },
     "execution_count": 222,
     "metadata": {},
     "output_type": "execute_result"
    }
   ],
   "source": [
    "lasso_m.coef_"
   ]
  },
  {
   "cell_type": "code",
   "execution_count": 183,
   "metadata": {},
   "outputs": [
    {
     "data": {
      "text/html": [
       "<div>\n",
       "<style scoped>\n",
       "    .dataframe tbody tr th:only-of-type {\n",
       "        vertical-align: middle;\n",
       "    }\n",
       "\n",
       "    .dataframe tbody tr th {\n",
       "        vertical-align: top;\n",
       "    }\n",
       "\n",
       "    .dataframe thead th {\n",
       "        text-align: right;\n",
       "    }\n",
       "</style>\n",
       "<table border=\"1\" class=\"dataframe\">\n",
       "  <thead>\n",
       "    <tr style=\"text-align: right;\">\n",
       "      <th></th>\n",
       "      <th>Lot Area</th>\n",
       "      <th>Mas Vnr Area</th>\n",
       "      <th>BsmtFin SF 1</th>\n",
       "      <th>BsmtFin SF 2</th>\n",
       "      <th>Total Bsmt SF</th>\n",
       "      <th>1st Flr SF</th>\n",
       "      <th>Gr Liv Area</th>\n",
       "      <th>Bsmt Full Bath</th>\n",
       "      <th>Garage Cars</th>\n",
       "      <th>Wood Deck SF</th>\n",
       "      <th>...</th>\n",
       "      <th>Fireplace Qu_Gd</th>\n",
       "      <th>Fireplace Qu_TA</th>\n",
       "      <th>Garage Type_Attchd</th>\n",
       "      <th>Garage Finish_Fin</th>\n",
       "      <th>Garage Qual_Ex</th>\n",
       "      <th>Garage Qual_Gd</th>\n",
       "      <th>Paved Drive_Y</th>\n",
       "      <th>Sale Type_Con</th>\n",
       "      <th>Sale Type_New</th>\n",
       "      <th>Sale Type_Oth</th>\n",
       "    </tr>\n",
       "  </thead>\n",
       "  <tbody>\n",
       "    <tr>\n",
       "      <th>0</th>\n",
       "      <td>2054.413702</td>\n",
       "      <td>3751.197423</td>\n",
       "      <td>4304.499654</td>\n",
       "      <td>1077.786296</td>\n",
       "      <td>3664.996092</td>\n",
       "      <td>3375.113854</td>\n",
       "      <td>19468.799724</td>\n",
       "      <td>1616.491659</td>\n",
       "      <td>6863.049064</td>\n",
       "      <td>1930.1828</td>\n",
       "      <td>...</td>\n",
       "      <td>924.650215</td>\n",
       "      <td>466.059409</td>\n",
       "      <td>925.289294</td>\n",
       "      <td>1843.391485</td>\n",
       "      <td>30.901618</td>\n",
       "      <td>3761.414476</td>\n",
       "      <td>606.3208</td>\n",
       "      <td>371.984521</td>\n",
       "      <td>2408.140801</td>\n",
       "      <td>468.520118</td>\n",
       "    </tr>\n",
       "  </tbody>\n",
       "</table>\n",
       "<p>1 rows × 81 columns</p>\n",
       "</div>"
      ],
      "text/plain": [
       "      Lot Area  Mas Vnr Area  BsmtFin SF 1  BsmtFin SF 2  Total Bsmt SF  \\\n",
       "0  2054.413702   3751.197423   4304.499654   1077.786296    3664.996092   \n",
       "\n",
       "    1st Flr SF   Gr Liv Area  Bsmt Full Bath  Garage Cars  Wood Deck SF  \\\n",
       "0  3375.113854  19468.799724     1616.491659  6863.049064     1930.1828   \n",
       "\n",
       "       ...        Fireplace Qu_Gd  Fireplace Qu_TA  Garage Type_Attchd  \\\n",
       "0      ...             924.650215       466.059409          925.289294   \n",
       "\n",
       "   Garage Finish_Fin  Garage Qual_Ex  Garage Qual_Gd  Paved Drive_Y  \\\n",
       "0        1843.391485       30.901618     3761.414476       606.3208   \n",
       "\n",
       "   Sale Type_Con  Sale Type_New  Sale Type_Oth  \n",
       "0     371.984521    2408.140801     468.520118  \n",
       "\n",
       "[1 rows x 81 columns]"
      ]
     },
     "execution_count": 183,
     "metadata": {},
     "output_type": "execute_result"
    }
   ],
   "source": [
    "good"
   ]
  },
  {
   "cell_type": "code",
   "execution_count": null,
   "metadata": {},
   "outputs": [],
   "source": []
  }
 ],
 "metadata": {
  "kernelspec": {
   "display_name": "Python [conda env:dsi]",
   "language": "python",
   "name": "conda-env-dsi-py"
  },
  "language_info": {
   "codemirror_mode": {
    "name": "ipython",
    "version": 3
   },
   "file_extension": ".py",
   "mimetype": "text/x-python",
   "name": "python",
   "nbconvert_exporter": "python",
   "pygments_lexer": "ipython3",
   "version": "3.6.5"
  }
 },
 "nbformat": 4,
 "nbformat_minor": 2
}
